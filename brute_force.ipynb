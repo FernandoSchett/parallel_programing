{
 "cells": [
  {
   "cell_type": "markdown",
   "metadata": {
    "id": "2gMnY4ESvfEA"
   },
   "source": [
    "# Bruteforce Algorithm (BFO)"
   ]
  },
  {
   "cell_type": "markdown",
   "metadata": {
    "id": "7wHXE1ij1bIA"
   },
   "source": [
    "## Objectives"
   ]
  },
  {
   "cell_type": "markdown",
   "metadata": {
    "id": "5ZLVbMKZ1bIA"
   },
   "source": [
    "* **Understand** Bruteforce Algorithm,\n",
    "* **Learn and Explore** how and why Bruteforce can be helpful in some situations,\n",
    "* **Use** Bruteforce algorithm into a classic problem,\n",
    "* **Observe** the performance of the solution done."
   ]
  },
  {
   "cell_type": "markdown",
   "metadata": {
    "id": "fmwBTXpn1bIA"
   },
   "source": [
    "## The Problem: Find the best parameter combinations."
   ]
  },
  {
   "cell_type": "markdown",
   "metadata": {
    "id": "vP0wr4R51bIA"
   },
   "source": [
    "<p style='text-align: justify;'>\n",
    "The issue of finding combinations of values and parameters is a recurring challenge in computing and is associated with the search for optimal or suitable solutions in vast spaces of possibilities. This type of problem is known a \"combinatorial optimization problem.\"\n",
    "\n",
    "For example, in optimizing parameters in machine learning models, it is necessary to find the ideal combination of hyperparameters, which may involve testing various values for each parameter, resulting in an extensive search space. Furthermore, in areas such as computer network routing, task scheduling, and logistics problems, determining the most efficient path, optimal order and timing of execution, and the best combination of vehicles, routes, and cargo, respectively, are complex tasks.\n",
    "\n",
    "What makes these problems especially challenging in computing is their combinatorial nature, which implies that the number of possible combinations grows exponentially with the size of the input data or the number of parameters to be optimized. Consequently, as the size of the problem increases, the time required to find the optimal solution grows significantly. Additionally, many of these problems are classified as NP-hard, which means that there is no known efficient algorithmic solution that works for all cases.\n",
    "</p>"
   ]
  },
  {
   "cell_type": "markdown",
   "metadata": {
    "id": "OJ4Teb2m1bIA"
   },
   "source": [
    "## The Solution: Try all possible Combinations"
   ]
  },
  {
   "cell_type": "markdown",
   "metadata": {
    "id": "ST3ronAy1bIA"
   },
   "source": [
    "<p style='text-align: justify;'>\n",
    "One possible solution to tackle the challenge of combinatorial optimization problems is through the use of a brute-force algorithm. The brute-force approach involves systematically trying out all possible combinations of values or parameters and evaluating each combination's performance to find the optimal solution. While it may not be the most efficient method, especially for large problem sizes, it <strong>guarantees</strong> that the best solution within the search space will be found.\n",
    "\n",
    "In the case of optimizing hyperparameters for machine learning models, a brute-force algorithm would exhaustively test different combinations of parameter values, allowing us to determine the best configuration for the model. Similarly, for complex tasks like computer network routing, logistics problems, or task scheduling, the brute-force algorithm would explore all feasible combinations to find the most efficient path, schedule, or assignment.\n",
    "\n",
    "However, it is essential to acknowledge the limitations of the brute-force algorithm due to its exponential growth $(O(!n))$ in computation time with increasing problem size. As the search space expands, the algorithm becomes increasingly impractical for large-scale problems. Therefore, for NP-hard problems, where finding an efficient solution remains challenging, other optimization techniques such as heuristic algorithms, genetic algorithms, or dynamic programming may be more suitable to strike a balance between time and solution quality.\n",
    "</p>  "
   ]
  },
  {
   "cell_type": "markdown",
   "metadata": {
    "id": "BMvo8TG2WWZE"
   },
   "source": [
    "## ☆ Challenge #1: Travel through Spain☆"
   ]
  },
  {
   "cell_type": "markdown",
   "metadata": {},
   "source": [
    "After years dedicated to tending and protecting his precious plantations on the farm, a farmer finally decided to treat himself to well-deserved vacations and set off on a journey through the beautiful landscapes of Spain. He then established the goal of visiting eight renowned cities during this unique adventure.\n",
    "\n",
    "Recognizing the value of time, the farmer understands the importance of finding the most efficient route to travel through all the cities, ensuring a seamless journey with the shortest travel time between each destination.\n",
    "\n",
    "The map of Spain takes the form of a graph, where cities are represented as nodes and the roads connecting them as edges. Each edge is associated with a specific distance in miles between each pair of cities. Although the farmer is free to choose a starting city, he must visit exactly eight distinct cities, avoiding revisits during his expedition.\n",
    "\n",
    "Your mission is to assist the farmer in creating the optimal order to visit all the cities, allowing him to explore their wonders while spending the least amount of time on the road. To do that, answer the following items:\n",
    "\n",
    "**a)** Implement a bruteforce algorithm to get the best route between the cities.\n",
    "\n",
    "**b)** Measure the execution time of this algorithm.\n",
    "\n",
    "**c)** As the problem grows in cities and conections we would be able to use bruteforce algorithm? Explain the advantages and disadvantages of using BruteForce Algorithm in this problem."
   ]
  },
  {
   "cell_type": "markdown",
   "metadata": {},
   "source": [
    "<center><img src=\"./assets/citties.png\" alt=\"Cities\"></center>"
   ]
  },
  {
   "cell_type": "markdown",
   "metadata": {
    "id": "8_Ch1ZPO1bIC"
   },
   "source": [
    "### ☆ Solution - Discrete Values☆"
   ]
  },
  {
   "cell_type": "markdown",
   "metadata": {},
   "source": [
    "As the item **a)** requested, we first need to get our cities and it's possible into the code:"
   ]
  },
  {
   "cell_type": "code",
   "execution_count": null,
   "metadata": {},
   "outputs": [],
   "source": [
    "cities = ['Bilbao', 'Zaragoza', 'Madrid', 'Barcelona', 'Valencia', 'Murcia', 'Jaén', 'Valladolid']\n",
    "connections = {\n",
    "    'Bilbao': {'Madrid': 395, 'Valladolid': 280, 'Zaragoza': 324},\n",
    "    'Zaragoza': {'Madrid': 325, 'Bilbao': 324, 'Barcelona': 296},\n",
    "    'Madrid': {'Murcia': 401, 'Zaragoza': 325, 'Bilbao': 395, 'Jaén': 135, 'Valladolid': 193},\n",
    "    'Barcelona': {'Valencia': 349, 'Zaragoza': 296},\n",
    "    'Valencia': {'Murcia': 241, 'Barcelona': 349},\n",
    "    'Murcia': {'Jaén': 368, 'Madrid': 401, 'Valencia': 241},\n",
    "    'Jaén': {'Murcia': 368, 'Madrid': 335},\n",
    "    'Valladolid': {'Bilbao': 280, 'Madrid': 193}\n",
    "}"
   ]
  },
  {
   "cell_type": "markdown",
   "metadata": {},
   "source": [
    "Then, as we need to try all possible combination, we can use this recursive function to calculate all routes, permutating the cities."
   ]
  },
  {
   "cell_type": "code",
   "execution_count": null,
   "metadata": {},
   "outputs": [],
   "source": [
    "def generate_permutations(lst):\n",
    "    if len(lst) == 0:\n",
    "        return [[]]\n",
    "    first_element = lst[0]\n",
    "    remaining_elements = lst[1:]\n",
    "\n",
    "    sub_permutations = generate_permutations(remaining_elements)\n",
    "    all_permutations = []\n",
    "\n",
    "    for sub_permutation in sub_permutations:\n",
    "        for i in range(len(sub_permutation) + 1):\n",
    "            new_permutation = sub_permutation[:i] + [first_element] + sub_permutation[i:]\n",
    "            all_permutations.append(new_permutation)\n",
    "\n",
    "    return all_permutations"
   ]
  },
  {
   "cell_type": "markdown",
   "metadata": {},
   "source": [
    "It's also good to make a function that will calculate the total route distance, while checking if the connection is possible:"
   ]
  },
  {
   "cell_type": "code",
   "execution_count": null,
   "metadata": {},
   "outputs": [],
   "source": [
    "#It calculates the total distance for that route.\n",
    "def calculate_total_distance(cities):\n",
    "    total_distance = 0\n",
    "    for i in range(len(cities) - 1):\n",
    "        current_city = cities[i]\n",
    "        next_city = cities[i + 1]\n",
    "        if next_city in connections[current_city]It's also good to make a function that will calculate the total route distance, while checking if the connection is possible::\n",
    "            total_distance += connections[current_city][next_city]\n",
    "        else:\n",
    "            #It means that the path is not possible, we can use a very large number.\n",
    "            return float('inf')\n",
    "\n",
    "    return total_distance"
   ]
  },
  {
   "cell_type": "markdown",
   "metadata": {},
   "source": [
    "At last, we need to calculate each distance traveled for each valid and possible cities permutations, the process is well represented by the GIF below:"
   ]
  },
  {
   "cell_type": "markdown",
   "metadata": {},
   "source": [
    "<center><img src=\"./assets/Bruteforce.gif\" alt=\"Cities\"></center>"
   ]
  },
  {
   "cell_type": "code",
   "execution_count": null,
   "metadata": {
    "scrolled": true
   },
   "outputs": [],
   "source": [
    "def find_best_city_combination(cities):\n",
    "    best_combination = None\n",
    "    min_distance = float('inf')\n",
    "    all_routes = generate_permutations(cities)\n",
    "    for combination in all_routes:\n",
    "        distance = calculate_total_distance(combination)\n",
    "        if distance < min_distance:\n",
    "            best_combination = combination\n",
    "            min_distance = distance\n",
    "       \n",
    "    return best_combination, min_distance"
   ]
  },
  {
   "cell_type": "markdown",
   "metadata": {},
   "source": [
    "Now, just call the created functions by passing the arrays of cities:"
   ]
  },
  {
   "cell_type": "code",
   "execution_count": null,
   "metadata": {},
   "outputs": [],
   "source": [
    "best_combination, min_distance = find_best_city_combination(cities)\n",
    "if best_combination:\n",
    "    print(f\"Best combination of cities to travel: {best_combination}\")\n",
    "    print(f\"Total distance of the trip: {min_distance} km\")"
   ]
  },
  {
   "cell_type": "markdown",
   "metadata": {},
   "source": [
    "As the item **b)** requested, we now need to measure the execution method, using timeit function: "
   ]
  },
  {
   "cell_type": "code",
   "execution_count": null,
   "metadata": {},
   "outputs": [],
   "source": [
    "import timeit\n",
    "tempo_medio = timeit.timeit('best_combination, min_distance = find_best_city_combination(cities)', globals=globals(), number=10)\n",
    "print(f\"Execution time: {tempo_medio}\")"
   ]
  },
  {
   "cell_type": "markdown",
   "metadata": {},
   "source": [
    "As requested at  **c)** item, as the problem grows in cities and connections, using a brute force algorithm becomes impractical and inefficient. The main reason is that the brute force algorithm explores all possible permutations of cities to find the optimal route. The number of permutations grows factorially with the number of cities, resulting in a combinatorial explosion.\n",
    "\n",
    "For example, if the farmer wants to visit eight cities, the number of possible routes to consider would be 8! = 40,320 possibilities. As the number of cities increases, the number of permutations grows exponentially. For instance, if the farmer wants to visit 15 cities, the number of permutations would be 15! = 1,307,674,368,000, which is an enormous number of possibilities to explore. This becomes even worse when working with **continuous** values, as they can be expressed with infinite possibilities, and a BFO algorithm may be stuck forever trying to find the best solution."
   ]
  },
  {
   "cell_type": "markdown",
   "metadata": {
    "id": "ilcR9NWJ1bIC"
   },
   "source": [
    "## Summary"
   ]
  },
  {
   "cell_type": "markdown",
   "metadata": {
    "id": "oCCcZ7Q31bIC"
   },
   "source": [
    "<p style='text-align: justify;'>\n",
    "By employing BFO to tackle the daunting challenge of finding the optimal combination of cities for a journey, we achieved awe-inspiring results. Brute-Force Optimization (BFO) algorithm, is a powerful technique for relentlessly seeking solutions non-discrete spaces. Throughout this guide, we gained an exhaustive understanding of how BFO operates, explore effective strategies to utilize it, and acknowledge its limitations.\n",
    "\n",
    "BFO empowers us to uncover simple solutions for optimization problems, although they may appear straightforward, it is crucial to acknowledge that BFO also comes with its fair share of limitations. The algorithm's reliance on local search, sensitivity to parameter choices, difficulties in high-dimensional spaces, slow convergence speed, and vulnerability to noisy functions are factors that should be carefully considered when applying BFO to real-world optimization challenges.\n",
    "</p>"
   ]
  },
  {
   "cell_type": "markdown",
   "metadata": {
    "id": "4FolLqE_1bID"
   },
   "source": [
    "## Clear the Memory"
   ]
  },
  {
   "cell_type": "markdown",
   "metadata": {
    "id": "tXiePpX31bID"
   },
   "source": [
    "Before moving on, please execute the following cell to clear up the CPU memory. This is required to move on to the next notebook."
   ]
  },
  {
   "cell_type": "code",
   "execution_count": null,
   "metadata": {
    "colab": {
     "base_uri": "https://localhost:8080/"
    },
    "id": "kMB90WpX1bID",
    "outputId": "2ccc1609-8376-49b6-efc9-df55c0838266"
   },
   "outputs": [],
   "source": [
    "import IPython\n",
    "app = IPython.Application.instance()\n",
    "app.kernel.do_shutdown(True)"
   ]
  },
  {
   "cell_type": "markdown",
   "metadata": {
    "id": "EbgrxWUP1bIE"
   },
   "source": [
    "## Next"
   ]
  },
  {
   "cell_type": "markdown",
   "metadata": {
    "id": "RniCDPdQ1bIE"
   },
   "source": [
    "In the next nootebook you learned about [notebook]()."
   ]
  }
 ],
 "metadata": {
  "colab": {
   "provenance": []
  },
  "kernelspec": {
   "display_name": "Python 3 (ipykernel)",
   "language": "python",
   "name": "python3"
  },
  "language_info": {
   "codemirror_mode": {
    "name": "ipython",
    "version": 3
   },
   "file_extension": ".py",
   "mimetype": "text/x-python",
   "name": "python",
   "nbconvert_exporter": "python",
   "pygments_lexer": "ipython3",
   "version": "3.10.12"
  }
 },
 "nbformat": 4,
 "nbformat_minor": 4
}
